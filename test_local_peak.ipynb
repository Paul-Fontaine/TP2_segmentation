{
 "cells": [
  {
   "metadata": {},
   "cell_type": "code",
   "source": [
    "import cv2 as cv\n",
    "import numpy as np\n",
    "import matplotlib.pyplot as plt\n"
   ],
   "id": "c18749f4570c9744",
   "outputs": [],
   "execution_count": null
  },
  {
   "metadata": {},
   "cell_type": "code",
   "source": [
    "img = cv.imread('Images/Echantillion1Mod2_301.png', cv.IMREAD_GRAYSCALE)\n",
    "img_RGB = cv.cvtColor(cv.imread('Images/Echantillion1Mod2_301.png'), cv.COLOR_BGR2RGB)"
   ],
   "id": "78cc2ed38d851687",
   "outputs": [],
   "execution_count": null
  },
  {
   "metadata": {},
   "cell_type": "code",
   "source": [
    "def show_image(img, title, cmap='gray'):\n",
    "    plt.figure(figsize=(10, 10))\n",
    "    plt.imshow(img, cmap=cmap)\n",
    "    plt.axis('off')\n",
    "    plt.title(title)\n",
    "    plt.show()"
   ],
   "id": "114753a5434f60f1",
   "outputs": [],
   "execution_count": null
  },
  {
   "metadata": {},
   "cell_type": "code",
   "source": "show_image(img, 'grayscale image')",
   "id": "8b20b330245af89d",
   "outputs": [],
   "execution_count": null
  },
  {
   "metadata": {},
   "cell_type": "code",
   "source": [
    "blur_img = cv.GaussianBlur(img, (5, 5), 0)\n",
    "thresh_img = cv.threshold(blur_img, 40, 255, cv.THRESH_BINARY)[1]\n",
    "show_image(thresh_img, 'threshold image')"
   ],
   "id": "d71736e85b535e82",
   "outputs": [],
   "execution_count": null
  },
  {
   "metadata": {},
   "cell_type": "code",
   "source": [
    "open_img = cv.morphologyEx(thresh_img, cv.MORPH_OPEN, np.ones((5, 5)))\n",
    "show_image(open_img, 'image after an openning')"
   ],
   "id": "6e8d7ff873c4c582",
   "outputs": [],
   "execution_count": null
  },
  {
   "metadata": {},
   "cell_type": "code",
   "source": [
    "from scipy import ndimage as ndi\n",
    "\n",
    "from skimage.segmentation import watershed\n",
    "from skimage.feature import peak_local_max"
   ],
   "id": "a01f344635083697",
   "outputs": [],
   "execution_count": null
  },
  {
   "metadata": {},
   "cell_type": "code",
   "source": [
    "distance = ndi.distance_transform_edt(open_img)\n",
    "local_maxi = peak_local_max(distance, footprint=np.ones((55, 55)), labels=open_img)\n",
    "peaks = np.zeros_like(open_img)\n",
    "peaks[tuple(local_maxi.T)] = 255\n",
    "# show_image(peaks, 'peaks')"
   ],
   "id": "39fc0e897a662e42",
   "outputs": [],
   "execution_count": null
  },
  {
   "metadata": {},
   "cell_type": "code",
   "source": [
    "markers = ndi.label(peaks)[0]\n",
    "plt.colorbar(plt.imshow(markers, cmap='magma'))\n",
    "plt.axis('off')\n",
    "plt.show()"
   ],
   "id": "1b1ac6d08c1e3bf8",
   "outputs": [],
   "execution_count": null
  },
  {
   "metadata": {},
   "cell_type": "code",
   "source": [
    "labels = watershed(-distance, markers, mask=open_img)\n",
    "colored_rocks = np.zeros_like(img_RGB)\n",
    "for i in range(1, labels.max() + 1):\n",
    "    colored_rocks[labels == i] = np.random.randint(0, 255, 3)\n",
    "fig, (og_img, segmented_img) = plt.subplots(1, 2, figsize=(20, 10))\n",
    "og_img.imshow(img_RGB)\n",
    "og_img.axis('off')\n",
    "og_img.set_title('Original image')\n",
    "segmented_img.imshow(colored_rocks)\n",
    "segmented_img.axis('off')\n",
    "segmented_img.set_title('Segmented image')\n",
    "plt.show()"
   ],
   "id": "bd0123be90b5d17a",
   "outputs": [],
   "execution_count": null
  },
  {
   "metadata": {},
   "cell_type": "code",
   "source": "",
   "id": "a5aa9c2c7d8b4f71",
   "outputs": [],
   "execution_count": null
  }
 ],
 "metadata": {
  "kernelspec": {
   "display_name": "Python 3",
   "language": "python",
   "name": "python3"
  },
  "language_info": {
   "codemirror_mode": {
    "name": "ipython",
    "version": 2
   },
   "file_extension": ".py",
   "mimetype": "text/x-python",
   "name": "python",
   "nbconvert_exporter": "python",
   "pygments_lexer": "ipython2",
   "version": "2.7.6"
  }
 },
 "nbformat": 4,
 "nbformat_minor": 5
}
